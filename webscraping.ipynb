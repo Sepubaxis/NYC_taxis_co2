{
 "cells": [
  {
   "cell_type": "code",
   "execution_count": 1,
   "metadata": {},
   "outputs": [],
   "source": [
    "import requests\n",
    "from bs4 import BeautifulSoup\n",
    "import os\n",
    "import smtplib\n",
    "from email.mime.text import MIMEText\n",
    "from email.mime.multipart import MIMEMultipart"
   ]
  },
  {
   "cell_type": "code",
   "execution_count": 2,
   "metadata": {},
   "outputs": [
    {
     "name": "stdout",
     "output_type": "stream",
     "text": [
      "Enlaces con el título 'Yellow Taxi Trip Records':\n",
      "https://d37ci6vzurychx.cloudfront.net/trip-data/yellow_tripdata_2023-01.parquet\n",
      "https://d37ci6vzurychx.cloudfront.net/trip-data/yellow_tripdata_2023-02.parquet\n",
      "https://d37ci6vzurychx.cloudfront.net/trip-data/yellow_tripdata_2023-03.parquet\n",
      "https://d37ci6vzurychx.cloudfront.net/trip-data/yellow_tripdata_2023-04.parquet\n",
      "https://d37ci6vzurychx.cloudfront.net/trip-data/yellow_tripdata_2023-05.parquet \n",
      "https://d37ci6vzurychx.cloudfront.net/trip-data/yellow_tripdata_2023-06.parquet\n",
      "https://d37ci6vzurychx.cloudfront.net/trip-data/yellow_tripdata_2023-07.parquet \n"
     ]
    }
   ],
   "source": [
    "# URL del top 100 de libros\n",
    "url = 'https://www.nyc.gov/site/tlc/about/tlc-trip-record-data.page'\n",
    "\n",
    "# Realizar la solicitud HTTP\n",
    "response = requests.get(url)\n",
    "\n",
    "# Verificar si la solicitud fue exitosa \n",
    "if response.status_code == 200:\n",
    "    # Analizar el contenido HTML con BeautifulSoup\n",
    "    soup = BeautifulSoup(response.text, 'html.parser')\n",
    "\n",
    "    # Buscar el elemento <div> con la clase \"faq-answers\" y el id \"faq2023\"\n",
    "    target_div = soup.find('div', {'class': 'faq-answers', 'id': 'faq2023'})\n",
    "\n",
    "    if target_div:\n",
    "        # Buscar los enlaces <a> dentro de target_div que tienen title=\"Yellow Taxi Trip Records\"\n",
    "        yellow_taxi_links = target_div.find_all('a', title='Yellow Taxi Trip Records')\n",
    "\n",
    "        if yellow_taxi_links:\n",
    "            print(\"Enlaces con el título 'Yellow Taxi Trip Records':\")\n",
    "            links = []\n",
    "            for link in yellow_taxi_links:\n",
    "                links.append(link.get('href'))\n",
    "                print(link.get('href'))  # Imprime el enlace URL\n",
    "        else:\n",
    "            print(\"No se encontraron enlaces con el título 'Yellow Taxi Trip Records' dentro de 'faq-answers'.\")\n",
    "\n",
    "    else:\n",
    "        print(\"No se encontró el elemento con la clase 'faq-answers' y el id 'faq2023'.\")\n",
    "\n",
    "else:\n",
    "    print(\"La solicitud no fue exitosa. Código de estado:\", response.status_code)\n"
   ]
  },
  {
   "cell_type": "code",
   "execution_count": 3,
   "metadata": {},
   "outputs": [],
   "source": [
    "def enviar_correo(asunto, cuerpo):\n",
    "    remitente = 'aymara_falcon@mi.unc.edu.ar'\n",
    "    destinatario = 'aymaratfferreyra@gmail.com'\n",
    "    contraseña = 'MVAdan2020'\n",
    "\n",
    "    mensaje = MIMEMultipart()\n",
    "    mensaje['From'] = remitente\n",
    "    mensaje['To'] = destinatario\n",
    "    mensaje['Subject'] = asunto\n",
    "\n",
    "    mensaje.attach(MIMEText(cuerpo, 'plain'))\n",
    "\n",
    "    servidor_smtp = smtplib.SMTP('smtp.gmail.com', 587)\n",
    "    servidor_smtp.starttls()\n",
    "    servidor_smtp.login(remitente, contraseña)\n",
    "    servidor_smtp.sendmail(remitente, destinatario, mensaje.as_string())\n",
    "    servidor_smtp.quit()"
   ]
  },
  {
   "cell_type": "code",
   "execution_count": 4,
   "metadata": {},
   "outputs": [
    {
     "name": "stdout",
     "output_type": "stream",
     "text": [
      "El archivo yellow_tripdata_2023-01.parquet ya existe localmente.\n",
      "El archivo yellow_tripdata_2023-02.parquet ya existe localmente.\n",
      "El archivo yellow_tripdata_2023-03.parquet ya existe localmente.\n",
      "El archivo yellow_tripdata_2023-04.parquet ya existe localmente.\n",
      "No se pudo descargar el archivo: yellow_tripdata_2023-05.parquet . Motivo del error: <?xml version=\"1.0\" encoding=\"UTF-8\"?>\n",
      "<Error><Code>AccessDenied</Code><Message>Access Denied</Message><RequestId>FYNRCB0VFS919EB3</RequestId><HostId>/vs4poHuMJFhh3FTDSwnfqrcE5gL68toElDVsZVICOQL3DeoozmlNU2oiyTQY8C38/hbQhUkZIo=</HostId></Error>\n"
     ]
    },
    {
     "ename": "SMTPAuthenticationError",
     "evalue": "(535, b'5.7.8 Username and Password not accepted. Learn more at\\n5.7.8  https://support.google.com/mail/?p=BadCredentials fc10-20020a05690c314a00b005a7bf9749c8sm1477037ywb.4 - gsmtp')",
     "output_type": "error",
     "traceback": [
      "\u001b[1;31m---------------------------------------------------------------------------\u001b[0m",
      "\u001b[1;31mSMTPAuthenticationError\u001b[0m                   Traceback (most recent call last)",
      "\u001b[1;32mc:\\Users\\Ayma\\Documents\\GitHub\\NYC_taxis_co2\\webscraping.ipynb Celda 4\u001b[0m line \u001b[0;36m2\n\u001b[0;32m     <a href='vscode-notebook-cell:/c%3A/Users/Ayma/Documents/GitHub/NYC_taxis_co2/webscraping.ipynb#W3sZmlsZQ%3D%3D?line=26'>27</a>\u001b[0m         \u001b[39mprint\u001b[39m(\u001b[39mf\u001b[39m\u001b[39m\"\u001b[39m\u001b[39mNo se pudo descargar el archivo: \u001b[39m\u001b[39m{\u001b[39;00mnombre_archivo\u001b[39m}\u001b[39;00m\u001b[39m. Motivo del error: \u001b[39m\u001b[39m{\u001b[39;00mmotivo_error\u001b[39m}\u001b[39;00m\u001b[39m\"\u001b[39m)\n\u001b[0;32m     <a href='vscode-notebook-cell:/c%3A/Users/Ayma/Documents/GitHub/NYC_taxis_co2/webscraping.ipynb#W3sZmlsZQ%3D%3D?line=27'>28</a>\u001b[0m         \u001b[39m# Envía un correo electrónico notificando sobre el problema\u001b[39;00m\n\u001b[1;32m---> <a href='vscode-notebook-cell:/c%3A/Users/Ayma/Documents/GitHub/NYC_taxis_co2/webscraping.ipynb#W3sZmlsZQ%3D%3D?line=28'>29</a>\u001b[0m         enviar_correo(\u001b[39m\"\u001b[39;49m\u001b[39mError de descarga\u001b[39;49m\u001b[39m\"\u001b[39;49m, \u001b[39mf\u001b[39;49m\u001b[39m\"\u001b[39;49m\u001b[39mNo se pudo descargar el archivo: \u001b[39;49m\u001b[39m{\u001b[39;49;00mnombre_archivo\u001b[39m}\u001b[39;49;00m\u001b[39m. Motivo del error: \u001b[39;49m\u001b[39m{\u001b[39;49;00mmotivo_error\u001b[39m}\u001b[39;49;00m\u001b[39m\"\u001b[39;49m)\n\u001b[0;32m     <a href='vscode-notebook-cell:/c%3A/Users/Ayma/Documents/GitHub/NYC_taxis_co2/webscraping.ipynb#W3sZmlsZQ%3D%3D?line=29'>30</a>\u001b[0m \u001b[39melse\u001b[39;00m:\n\u001b[0;32m     <a href='vscode-notebook-cell:/c%3A/Users/Ayma/Documents/GitHub/NYC_taxis_co2/webscraping.ipynb#W3sZmlsZQ%3D%3D?line=30'>31</a>\u001b[0m     \u001b[39mprint\u001b[39m(\u001b[39mf\u001b[39m\u001b[39m\"\u001b[39m\u001b[39mEl archivo \u001b[39m\u001b[39m{\u001b[39;00mnombre_archivo\u001b[39m}\u001b[39;00m\u001b[39m ya existe localmente.\u001b[39m\u001b[39m\"\u001b[39m)\n",
      "\u001b[1;32mc:\\Users\\Ayma\\Documents\\GitHub\\NYC_taxis_co2\\webscraping.ipynb Celda 4\u001b[0m line \u001b[0;36m1\n\u001b[0;32m     <a href='vscode-notebook-cell:/c%3A/Users/Ayma/Documents/GitHub/NYC_taxis_co2/webscraping.ipynb#W3sZmlsZQ%3D%3D?line=12'>13</a>\u001b[0m servidor_smtp \u001b[39m=\u001b[39m smtplib\u001b[39m.\u001b[39mSMTP(\u001b[39m'\u001b[39m\u001b[39msmtp.gmail.com\u001b[39m\u001b[39m'\u001b[39m, \u001b[39m587\u001b[39m)\n\u001b[0;32m     <a href='vscode-notebook-cell:/c%3A/Users/Ayma/Documents/GitHub/NYC_taxis_co2/webscraping.ipynb#W3sZmlsZQ%3D%3D?line=13'>14</a>\u001b[0m servidor_smtp\u001b[39m.\u001b[39mstarttls()\n\u001b[1;32m---> <a href='vscode-notebook-cell:/c%3A/Users/Ayma/Documents/GitHub/NYC_taxis_co2/webscraping.ipynb#W3sZmlsZQ%3D%3D?line=14'>15</a>\u001b[0m servidor_smtp\u001b[39m.\u001b[39;49mlogin(remitente, contraseña)\n\u001b[0;32m     <a href='vscode-notebook-cell:/c%3A/Users/Ayma/Documents/GitHub/NYC_taxis_co2/webscraping.ipynb#W3sZmlsZQ%3D%3D?line=15'>16</a>\u001b[0m servidor_smtp\u001b[39m.\u001b[39msendmail(remitente, destinatario, mensaje\u001b[39m.\u001b[39mas_string())\n\u001b[0;32m     <a href='vscode-notebook-cell:/c%3A/Users/Ayma/Documents/GitHub/NYC_taxis_co2/webscraping.ipynb#W3sZmlsZQ%3D%3D?line=16'>17</a>\u001b[0m servidor_smtp\u001b[39m.\u001b[39mquit()\n",
      "File \u001b[1;32mc:\\Users\\Ayma\\AppData\\Local\\Programs\\Python\\Python310\\lib\\smtplib.py:750\u001b[0m, in \u001b[0;36mSMTP.login\u001b[1;34m(self, user, password, initial_response_ok)\u001b[0m\n\u001b[0;32m    747\u001b[0m         last_exception \u001b[39m=\u001b[39m e\n\u001b[0;32m    749\u001b[0m \u001b[39m# We could not login successfully.  Return result of last attempt.\u001b[39;00m\n\u001b[1;32m--> 750\u001b[0m \u001b[39mraise\u001b[39;00m last_exception\n",
      "File \u001b[1;32mc:\\Users\\Ayma\\AppData\\Local\\Programs\\Python\\Python310\\lib\\smtplib.py:739\u001b[0m, in \u001b[0;36mSMTP.login\u001b[1;34m(self, user, password, initial_response_ok)\u001b[0m\n\u001b[0;32m    737\u001b[0m method_name \u001b[39m=\u001b[39m \u001b[39m'\u001b[39m\u001b[39mauth_\u001b[39m\u001b[39m'\u001b[39m \u001b[39m+\u001b[39m authmethod\u001b[39m.\u001b[39mlower()\u001b[39m.\u001b[39mreplace(\u001b[39m'\u001b[39m\u001b[39m-\u001b[39m\u001b[39m'\u001b[39m, \u001b[39m'\u001b[39m\u001b[39m_\u001b[39m\u001b[39m'\u001b[39m)\n\u001b[0;32m    738\u001b[0m \u001b[39mtry\u001b[39;00m:\n\u001b[1;32m--> 739\u001b[0m     (code, resp) \u001b[39m=\u001b[39m \u001b[39mself\u001b[39;49m\u001b[39m.\u001b[39;49mauth(\n\u001b[0;32m    740\u001b[0m         authmethod, \u001b[39mgetattr\u001b[39;49m(\u001b[39mself\u001b[39;49m, method_name),\n\u001b[0;32m    741\u001b[0m         initial_response_ok\u001b[39m=\u001b[39;49minitial_response_ok)\n\u001b[0;32m    742\u001b[0m     \u001b[39m# 235 == 'Authentication successful'\u001b[39;00m\n\u001b[0;32m    743\u001b[0m     \u001b[39m# 503 == 'Error: already authenticated'\u001b[39;00m\n\u001b[0;32m    744\u001b[0m     \u001b[39mif\u001b[39;00m code \u001b[39min\u001b[39;00m (\u001b[39m235\u001b[39m, \u001b[39m503\u001b[39m):\n",
      "File \u001b[1;32mc:\\Users\\Ayma\\AppData\\Local\\Programs\\Python\\Python310\\lib\\smtplib.py:662\u001b[0m, in \u001b[0;36mSMTP.auth\u001b[1;34m(self, mechanism, authobject, initial_response_ok)\u001b[0m\n\u001b[0;32m    660\u001b[0m \u001b[39mif\u001b[39;00m code \u001b[39min\u001b[39;00m (\u001b[39m235\u001b[39m, \u001b[39m503\u001b[39m):\n\u001b[0;32m    661\u001b[0m     \u001b[39mreturn\u001b[39;00m (code, resp)\n\u001b[1;32m--> 662\u001b[0m \u001b[39mraise\u001b[39;00m SMTPAuthenticationError(code, resp)\n",
      "\u001b[1;31mSMTPAuthenticationError\u001b[0m: (535, b'5.7.8 Username and Password not accepted. Learn more at\\n5.7.8  https://support.google.com/mail/?p=BadCredentials fc10-20020a05690c314a00b005a7bf9749c8sm1477037ywb.4 - gsmtp')"
     ]
    }
   ],
   "source": [
    "# Carpeta de destino para guardar los archivos descargados\n",
    "carpeta_destino = \"archivos_yellow_taxi/\"\n",
    "\n",
    "# Verificar si la carpeta de destino existe, si no, créala\n",
    "if not os.path.exists(carpeta_destino):\n",
    "    os.makedirs(carpeta_destino)\n",
    "\n",
    "# Obtener la lista de archivos en la carpeta de destino\n",
    "archivos_locales = os.listdir(carpeta_destino)\n",
    "\n",
    "# Realiza la descarga de los archivos que no están en la lista de archivos locales\n",
    "for link in links:\n",
    "    nombre_archivo = link.split(\"/\")[-1]  # Obtiene el nombre del archivo desde la URL\n",
    "    archivo_destino = os.path.join(carpeta_destino, nombre_archivo)\n",
    "\n",
    "    if nombre_archivo not in archivos_locales:\n",
    "        response = requests.get(link)\n",
    "\n",
    "        if response.status_code == 200:\n",
    "            with open(archivo_destino, 'wb') as archivo:\n",
    "                archivo.write(response.content)\n",
    "            print(f\"Archivo descargado: {nombre_archivo}\")\n",
    "        else:\n",
    "            # Obtiene el motivo del error de la respuesta HTTP\n",
    "            motivo_error = response.text\n",
    "            # Muestra un mensaje indicando que el archivo no se pudo descargar y el motivo del error\n",
    "            print(f\"No se pudo descargar el archivo: {nombre_archivo}. Motivo del error: {motivo_error}\")\n",
    "            # Envía un correo electrónico notificando sobre el problema\n",
    "            enviar_correo(\"Error de descarga\", f\"No se pudo descargar el archivo: {nombre_archivo}. Motivo del error: {motivo_error}\")\n",
    "    else:\n",
    "        print(f\"El archivo {nombre_archivo} ya existe localmente.\")"
   ]
  }
 ],
 "metadata": {
  "kernelspec": {
   "display_name": "Python 3",
   "language": "python",
   "name": "python3"
  },
  "language_info": {
   "codemirror_mode": {
    "name": "ipython",
    "version": 3
   },
   "file_extension": ".py",
   "mimetype": "text/x-python",
   "name": "python",
   "nbconvert_exporter": "python",
   "pygments_lexer": "ipython3",
   "version": "3.10.7"
  }
 },
 "nbformat": 4,
 "nbformat_minor": 2
}
